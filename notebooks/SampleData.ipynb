{
 "cells": [
  {
   "cell_type": "code",
   "execution_count": 8,
   "id": "93401b3e",
   "metadata": {},
   "outputs": [
    {
     "data": {
      "application/javascript": [
       "\n",
       "            setTimeout(function() {\n",
       "                var nbb_cell_id = 8;\n",
       "                var nbb_unformatted_code = \"import pandas as pd\\nimport numpy as np\";\n",
       "                var nbb_formatted_code = \"import pandas as pd\\nimport numpy as np\";\n",
       "                var nbb_cells = Jupyter.notebook.get_cells();\n",
       "                for (var i = 0; i < nbb_cells.length; ++i) {\n",
       "                    if (nbb_cells[i].input_prompt_number == nbb_cell_id) {\n",
       "                        if (nbb_cells[i].get_text() == nbb_unformatted_code) {\n",
       "                             nbb_cells[i].set_text(nbb_formatted_code);\n",
       "                        }\n",
       "                        break;\n",
       "                    }\n",
       "                }\n",
       "            }, 500);\n",
       "            "
      ],
      "text/plain": [
       "<IPython.core.display.Javascript object>"
      ]
     },
     "metadata": {},
     "output_type": "display_data"
    }
   ],
   "source": [
    "import pandas as pd\n",
    "import numpy as np"
   ]
  },
  {
   "cell_type": "code",
   "execution_count": 9,
   "id": "791eb03c",
   "metadata": {},
   "outputs": [
    {
     "name": "stdout",
     "output_type": "stream",
     "text": [
      "The nb_black extension is already loaded. To reload it, use:\n",
      "  %reload_ext nb_black\n"
     ]
    },
    {
     "data": {
      "application/javascript": [
       "\n",
       "            setTimeout(function() {\n",
       "                var nbb_cell_id = 9;\n",
       "                var nbb_unformatted_code = \"%load_ext nb_black\";\n",
       "                var nbb_formatted_code = \"%load_ext nb_black\";\n",
       "                var nbb_cells = Jupyter.notebook.get_cells();\n",
       "                for (var i = 0; i < nbb_cells.length; ++i) {\n",
       "                    if (nbb_cells[i].input_prompt_number == nbb_cell_id) {\n",
       "                        if (nbb_cells[i].get_text() == nbb_unformatted_code) {\n",
       "                             nbb_cells[i].set_text(nbb_formatted_code);\n",
       "                        }\n",
       "                        break;\n",
       "                    }\n",
       "                }\n",
       "            }, 500);\n",
       "            "
      ],
      "text/plain": [
       "<IPython.core.display.Javascript object>"
      ]
     },
     "metadata": {},
     "output_type": "display_data"
    }
   ],
   "source": [
    "%load_ext nb_black"
   ]
  },
  {
   "cell_type": "code",
   "execution_count": 10,
   "id": "bf59be7b",
   "metadata": {},
   "outputs": [
    {
     "data": {
      "application/javascript": [
       "\n",
       "            setTimeout(function() {\n",
       "                var nbb_cell_id = 10;\n",
       "                var nbb_unformatted_code = \"shelter = pd.DataFrame(\\n    {\\n        \\\"transaction_date\\\": pd.date_range(\\n            start=\\\"2020-01-01\\\", end=\\\"2023-12-31\\\", freq=\\\"MS\\\"\\n        ),\\n        \\\"account\\\": [\\\"checking\\\"] * 12 * 4,\\n        \\\"description\\\": [\\\"Apartment Rent\\\"] * 15\\n        + [\\\"New Apartment Rent\\\"] * 9\\n        + [\\\"house\\\"] * 24,\\n        \\\"category\\\": [\\\"Shelter\\\"] * 12 * 4,\\n        \\\"subcategory\\\": [\\\"Rent\\\"] * 24 + [\\\"Mortgage\\\"] * 24,\\n        \\\"charge_amount\\\": [-1200] * 15 + [-1700] * 9 + [-3000] * 24,\\n    }\\n)\";\n",
       "                var nbb_formatted_code = \"shelter = pd.DataFrame(\\n    {\\n        \\\"transaction_date\\\": pd.date_range(\\n            start=\\\"2020-01-01\\\", end=\\\"2023-12-31\\\", freq=\\\"MS\\\"\\n        ),\\n        \\\"account\\\": [\\\"checking\\\"] * 12 * 4,\\n        \\\"description\\\": [\\\"Apartment Rent\\\"] * 15\\n        + [\\\"New Apartment Rent\\\"] * 9\\n        + [\\\"house\\\"] * 24,\\n        \\\"category\\\": [\\\"Shelter\\\"] * 12 * 4,\\n        \\\"subcategory\\\": [\\\"Rent\\\"] * 24 + [\\\"Mortgage\\\"] * 24,\\n        \\\"charge_amount\\\": [-1200] * 15 + [-1700] * 9 + [-3000] * 24,\\n    }\\n)\";\n",
       "                var nbb_cells = Jupyter.notebook.get_cells();\n",
       "                for (var i = 0; i < nbb_cells.length; ++i) {\n",
       "                    if (nbb_cells[i].input_prompt_number == nbb_cell_id) {\n",
       "                        if (nbb_cells[i].get_text() == nbb_unformatted_code) {\n",
       "                             nbb_cells[i].set_text(nbb_formatted_code);\n",
       "                        }\n",
       "                        break;\n",
       "                    }\n",
       "                }\n",
       "            }, 500);\n",
       "            "
      ],
      "text/plain": [
       "<IPython.core.display.Javascript object>"
      ]
     },
     "metadata": {},
     "output_type": "display_data"
    }
   ],
   "source": [
    "shelter = pd.DataFrame(\n",
    "    {\n",
    "        \"transaction_date\": pd.date_range(\n",
    "            start=\"2020-01-01\", end=\"2023-12-31\", freq=\"MS\"\n",
    "        ),\n",
    "        \"account\": [\"checking\"] * 12 * 4,\n",
    "        \"description\": [\"Apartment Rent\"] * 15\n",
    "        + [\"New Apartment Rent\"] * 9\n",
    "        + [\"house\"] * 24,\n",
    "        \"category\": [\"Shelter\"] * 12 * 4,\n",
    "        \"subcategory\": [\"Rent\"] * 24 + [\"Mortgage\"] * 24,\n",
    "        \"charge_amount\": [-1200] * 15 + [-1700] * 9 + [-3000] * 24,\n",
    "    }\n",
    ")"
   ]
  },
  {
   "cell_type": "code",
   "execution_count": 11,
   "id": "2243850d",
   "metadata": {},
   "outputs": [
    {
     "data": {
      "application/javascript": [
       "\n",
       "            setTimeout(function() {\n",
       "                var nbb_cell_id = 11;\n",
       "                var nbb_unformatted_code = \"def random_dates(start, end, n=10):\\n\\n    start_u = start.value // 10 ** 9\\n    end_u = end.value // 10 ** 9\\n\\n    rdates = pd.to_datetime(np.random.randint(start_u, end_u, n), unit=\\\"s\\\")\\n    rdates = pd.to_datetime(rdates.strftime(\\\"%Y-%m-%d\\\"))\\n\\n    return rdates\\n\\nstart = pd.to_datetime('2020-01-01')\\nend = pd.to_datetime('2023-12-31')\\ngrocery_dates = random_dates(start, end, n=3*12*6)\\ngrocery_spend = np.round(-1*np.random.uniform(20, 100.00, 3*12*6), 2)\\n\\ngrocery_df = pd.DataFrame({\\n    'transaction_date': grocery_dates,\\n    'account': 'credit card',\\n    'description': np.random.choice(['Kroger', 'Target', 'Aldi'], size=len(grocery_dates)),\\n    'category': 'Groceries',\\n    'subcategory': np.NaN,\\n    'charge_amount': grocery_spend\\n})\\n\\nmisc_df = pd.DataFrame({\\n    \\\"transaction_date\\\": random_dates(start, end, n=3*12*3),\\n    'account': 'credit_card',\\n    'description': np.random.choice(['Beer', 'Restaurant', 'Hobby'], size=3*12*3),\\n    'category': 'Misc',\\n    'subcategory': np.NaN,\\n    'charge_amount': np.round(-1 * np.random.uniform(20, 50, 3*12*3), 2)\\n})\\n\\nincome_df = pd.DataFrame({\\n    \\\"transaction_date\\\": pd.date_range(\\n            start=\\\"2020-01-01\\\", end=\\\"2023-12-31\\\", freq=\\\"MS\\\"\\n        ),\\n    \\\"account\\\": \\\"checking\\\",\\n    'description': \\\"working\\\",\\n    \\\"category\\\": \\\"Income\\\",\\n    \\\"subcategory\\\": \\\"payroll\\\",\\n    \\\"charge_amount\\\": np.round(100000 / 12 * (0.80), 2)\\n})\";\n",
       "                var nbb_formatted_code = \"def random_dates(start, end, n=10):\\n\\n    start_u = start.value // 10 ** 9\\n    end_u = end.value // 10 ** 9\\n\\n    rdates = pd.to_datetime(np.random.randint(start_u, end_u, n), unit=\\\"s\\\")\\n    rdates = pd.to_datetime(rdates.strftime(\\\"%Y-%m-%d\\\"))\\n\\n    return rdates\\n\\n\\nstart = pd.to_datetime(\\\"2020-01-01\\\")\\nend = pd.to_datetime(\\\"2023-12-31\\\")\\ngrocery_dates = random_dates(start, end, n=3 * 12 * 6)\\ngrocery_spend = np.round(-1 * np.random.uniform(20, 100.00, 3 * 12 * 6), 2)\\n\\ngrocery_df = pd.DataFrame(\\n    {\\n        \\\"transaction_date\\\": grocery_dates,\\n        \\\"account\\\": \\\"credit card\\\",\\n        \\\"description\\\": np.random.choice(\\n            [\\\"Kroger\\\", \\\"Target\\\", \\\"Aldi\\\"], size=len(grocery_dates)\\n        ),\\n        \\\"category\\\": \\\"Groceries\\\",\\n        \\\"subcategory\\\": np.NaN,\\n        \\\"charge_amount\\\": grocery_spend,\\n    }\\n)\\n\\nmisc_df = pd.DataFrame(\\n    {\\n        \\\"transaction_date\\\": random_dates(start, end, n=3 * 12 * 3),\\n        \\\"account\\\": \\\"credit_card\\\",\\n        \\\"description\\\": np.random.choice(\\n            [\\\"Beer\\\", \\\"Restaurant\\\", \\\"Hobby\\\"], size=3 * 12 * 3\\n        ),\\n        \\\"category\\\": \\\"Misc\\\",\\n        \\\"subcategory\\\": np.NaN,\\n        \\\"charge_amount\\\": np.round(-1 * np.random.uniform(20, 50, 3 * 12 * 3), 2),\\n    }\\n)\\n\\nincome_df = pd.DataFrame(\\n    {\\n        \\\"transaction_date\\\": pd.date_range(\\n            start=\\\"2020-01-01\\\", end=\\\"2023-12-31\\\", freq=\\\"MS\\\"\\n        ),\\n        \\\"account\\\": \\\"checking\\\",\\n        \\\"description\\\": \\\"working\\\",\\n        \\\"category\\\": \\\"Income\\\",\\n        \\\"subcategory\\\": \\\"payroll\\\",\\n        \\\"charge_amount\\\": np.round(100000 / 12 * (0.80), 2),\\n    }\\n)\";\n",
       "                var nbb_cells = Jupyter.notebook.get_cells();\n",
       "                for (var i = 0; i < nbb_cells.length; ++i) {\n",
       "                    if (nbb_cells[i].input_prompt_number == nbb_cell_id) {\n",
       "                        if (nbb_cells[i].get_text() == nbb_unformatted_code) {\n",
       "                             nbb_cells[i].set_text(nbb_formatted_code);\n",
       "                        }\n",
       "                        break;\n",
       "                    }\n",
       "                }\n",
       "            }, 500);\n",
       "            "
      ],
      "text/plain": [
       "<IPython.core.display.Javascript object>"
      ]
     },
     "metadata": {},
     "output_type": "display_data"
    }
   ],
   "source": [
    "def random_dates(start, end, n=10):\n",
    "\n",
    "    start_u = start.value // 10 ** 9\n",
    "    end_u = end.value // 10 ** 9\n",
    "\n",
    "    rdates = pd.to_datetime(np.random.randint(start_u, end_u, n), unit=\"s\")\n",
    "    rdates = pd.to_datetime(rdates.strftime(\"%Y-%m-%d\"))\n",
    "\n",
    "    return rdates\n",
    "\n",
    "start = pd.to_datetime('2020-01-01')\n",
    "end = pd.to_datetime('2023-12-31')\n",
    "grocery_dates = random_dates(start, end, n=3*12*6)\n",
    "grocery_spend = np.round(-1*np.random.uniform(20, 100.00, 3*12*6), 2)\n",
    "\n",
    "grocery_df = pd.DataFrame({\n",
    "    'transaction_date': grocery_dates,\n",
    "    'account': 'credit card',\n",
    "    'description': np.random.choice(['Kroger', 'Target', 'Aldi'], size=len(grocery_dates)),\n",
    "    'category': 'Groceries',\n",
    "    'subcategory': np.NaN,\n",
    "    'charge_amount': grocery_spend\n",
    "})\n",
    "\n",
    "misc_df = pd.DataFrame({\n",
    "    \"transaction_date\": random_dates(start, end, n=3*12*3),\n",
    "    'account': 'credit_card',\n",
    "    'description': np.random.choice(['Beer', 'Restaurant', 'Hobby'], size=3*12*3),\n",
    "    'category': 'Misc',\n",
    "    'subcategory': np.NaN,\n",
    "    'charge_amount': np.round(-1 * np.random.uniform(20, 50, 3*12*3), 2)\n",
    "})\n",
    "\n",
    "income_df = pd.DataFrame({\n",
    "    \"transaction_date\": pd.date_range(\n",
    "            start=\"2020-01-01\", end=\"2023-12-31\", freq=\"MS\"\n",
    "        ),\n",
    "    \"account\": \"checking\",\n",
    "    'description': \"working\",\n",
    "    \"category\": \"Income\",\n",
    "    \"subcategory\": \"payroll\",\n",
    "    \"charge_amount\": np.round(100000 / 12 * (0.80), 2)\n",
    "})\n"
   ]
  },
  {
   "cell_type": "code",
   "execution_count": 12,
   "id": "366aa1fc",
   "metadata": {},
   "outputs": [
    {
     "data": {
      "application/javascript": [
       "\n",
       "            setTimeout(function() {\n",
       "                var nbb_cell_id = 12;\n",
       "                var nbb_unformatted_code = \"sample_spend = pd.concat([shelter, grocery_df, misc_df, income_df]).sort_values(\\n    [\\\"transaction_date\\\", \\\"account\\\", \\\"category\\\"]\\n)\";\n",
       "                var nbb_formatted_code = \"sample_spend = pd.concat([shelter, grocery_df, misc_df, income_df]).sort_values(\\n    [\\\"transaction_date\\\", \\\"account\\\", \\\"category\\\"]\\n)\";\n",
       "                var nbb_cells = Jupyter.notebook.get_cells();\n",
       "                for (var i = 0; i < nbb_cells.length; ++i) {\n",
       "                    if (nbb_cells[i].input_prompt_number == nbb_cell_id) {\n",
       "                        if (nbb_cells[i].get_text() == nbb_unformatted_code) {\n",
       "                             nbb_cells[i].set_text(nbb_formatted_code);\n",
       "                        }\n",
       "                        break;\n",
       "                    }\n",
       "                }\n",
       "            }, 500);\n",
       "            "
      ],
      "text/plain": [
       "<IPython.core.display.Javascript object>"
      ]
     },
     "metadata": {},
     "output_type": "display_data"
    }
   ],
   "source": [
    "sample_spend = pd.concat([shelter, grocery_df, misc_df, income_df]).sort_values(\n",
    "    [\"transaction_date\", \"account\", \"category\"]\n",
    ")"
   ]
  },
  {
   "cell_type": "code",
   "execution_count": 13,
   "id": "b494aec7",
   "metadata": {},
   "outputs": [
    {
     "data": {
      "text/html": [
       "<div>\n",
       "<style scoped>\n",
       "    .dataframe tbody tr th:only-of-type {\n",
       "        vertical-align: middle;\n",
       "    }\n",
       "\n",
       "    .dataframe tbody tr th {\n",
       "        vertical-align: top;\n",
       "    }\n",
       "\n",
       "    .dataframe thead th {\n",
       "        text-align: right;\n",
       "    }\n",
       "</style>\n",
       "<table border=\"1\" class=\"dataframe\">\n",
       "  <thead>\n",
       "    <tr style=\"text-align: right;\">\n",
       "      <th></th>\n",
       "      <th>transaction_date</th>\n",
       "      <th>account</th>\n",
       "      <th>description</th>\n",
       "      <th>category</th>\n",
       "      <th>subcategory</th>\n",
       "      <th>charge_amount</th>\n",
       "    </tr>\n",
       "  </thead>\n",
       "  <tbody>\n",
       "    <tr>\n",
       "      <th>0</th>\n",
       "      <td>2020-01-01</td>\n",
       "      <td>checking</td>\n",
       "      <td>working</td>\n",
       "      <td>Income</td>\n",
       "      <td>payroll</td>\n",
       "      <td>6666.67</td>\n",
       "    </tr>\n",
       "    <tr>\n",
       "      <th>0</th>\n",
       "      <td>2020-01-01</td>\n",
       "      <td>checking</td>\n",
       "      <td>Apartment Rent</td>\n",
       "      <td>Shelter</td>\n",
       "      <td>Rent</td>\n",
       "      <td>-1200.00</td>\n",
       "    </tr>\n",
       "    <tr>\n",
       "      <th>20</th>\n",
       "      <td>2020-01-15</td>\n",
       "      <td>credit card</td>\n",
       "      <td>Kroger</td>\n",
       "      <td>Groceries</td>\n",
       "      <td>NaN</td>\n",
       "      <td>-73.09</td>\n",
       "    </tr>\n",
       "    <tr>\n",
       "      <th>48</th>\n",
       "      <td>2020-01-21</td>\n",
       "      <td>credit card</td>\n",
       "      <td>Aldi</td>\n",
       "      <td>Groceries</td>\n",
       "      <td>NaN</td>\n",
       "      <td>-82.24</td>\n",
       "    </tr>\n",
       "    <tr>\n",
       "      <th>28</th>\n",
       "      <td>2020-01-26</td>\n",
       "      <td>credit card</td>\n",
       "      <td>Kroger</td>\n",
       "      <td>Groceries</td>\n",
       "      <td>NaN</td>\n",
       "      <td>-56.00</td>\n",
       "    </tr>\n",
       "    <tr>\n",
       "      <th>...</th>\n",
       "      <td>...</td>\n",
       "      <td>...</td>\n",
       "      <td>...</td>\n",
       "      <td>...</td>\n",
       "      <td>...</td>\n",
       "      <td>...</td>\n",
       "    </tr>\n",
       "    <tr>\n",
       "      <th>214</th>\n",
       "      <td>2023-12-05</td>\n",
       "      <td>credit card</td>\n",
       "      <td>Aldi</td>\n",
       "      <td>Groceries</td>\n",
       "      <td>NaN</td>\n",
       "      <td>-24.64</td>\n",
       "    </tr>\n",
       "    <tr>\n",
       "      <th>173</th>\n",
       "      <td>2023-12-08</td>\n",
       "      <td>credit card</td>\n",
       "      <td>Aldi</td>\n",
       "      <td>Groceries</td>\n",
       "      <td>NaN</td>\n",
       "      <td>-64.72</td>\n",
       "    </tr>\n",
       "    <tr>\n",
       "      <th>91</th>\n",
       "      <td>2023-12-11</td>\n",
       "      <td>credit_card</td>\n",
       "      <td>Hobby</td>\n",
       "      <td>Misc</td>\n",
       "      <td>NaN</td>\n",
       "      <td>-39.56</td>\n",
       "    </tr>\n",
       "    <tr>\n",
       "      <th>206</th>\n",
       "      <td>2023-12-17</td>\n",
       "      <td>credit card</td>\n",
       "      <td>Kroger</td>\n",
       "      <td>Groceries</td>\n",
       "      <td>NaN</td>\n",
       "      <td>-77.76</td>\n",
       "    </tr>\n",
       "    <tr>\n",
       "      <th>120</th>\n",
       "      <td>2023-12-25</td>\n",
       "      <td>credit card</td>\n",
       "      <td>Aldi</td>\n",
       "      <td>Groceries</td>\n",
       "      <td>NaN</td>\n",
       "      <td>-22.66</td>\n",
       "    </tr>\n",
       "  </tbody>\n",
       "</table>\n",
       "<p>420 rows × 6 columns</p>\n",
       "</div>"
      ],
      "text/plain": [
       "    transaction_date      account     description   category subcategory  \\\n",
       "0         2020-01-01     checking         working     Income     payroll   \n",
       "0         2020-01-01     checking  Apartment Rent    Shelter        Rent   \n",
       "20        2020-01-15  credit card          Kroger  Groceries         NaN   \n",
       "48        2020-01-21  credit card            Aldi  Groceries         NaN   \n",
       "28        2020-01-26  credit card          Kroger  Groceries         NaN   \n",
       "..               ...          ...             ...        ...         ...   \n",
       "214       2023-12-05  credit card            Aldi  Groceries         NaN   \n",
       "173       2023-12-08  credit card            Aldi  Groceries         NaN   \n",
       "91        2023-12-11  credit_card           Hobby       Misc         NaN   \n",
       "206       2023-12-17  credit card          Kroger  Groceries         NaN   \n",
       "120       2023-12-25  credit card            Aldi  Groceries         NaN   \n",
       "\n",
       "     charge_amount  \n",
       "0          6666.67  \n",
       "0         -1200.00  \n",
       "20          -73.09  \n",
       "48          -82.24  \n",
       "28          -56.00  \n",
       "..             ...  \n",
       "214         -24.64  \n",
       "173         -64.72  \n",
       "91          -39.56  \n",
       "206         -77.76  \n",
       "120         -22.66  \n",
       "\n",
       "[420 rows x 6 columns]"
      ]
     },
     "execution_count": 13,
     "metadata": {},
     "output_type": "execute_result"
    },
    {
     "data": {
      "application/javascript": [
       "\n",
       "            setTimeout(function() {\n",
       "                var nbb_cell_id = 13;\n",
       "                var nbb_unformatted_code = \"sample_spend\";\n",
       "                var nbb_formatted_code = \"sample_spend\";\n",
       "                var nbb_cells = Jupyter.notebook.get_cells();\n",
       "                for (var i = 0; i < nbb_cells.length; ++i) {\n",
       "                    if (nbb_cells[i].input_prompt_number == nbb_cell_id) {\n",
       "                        if (nbb_cells[i].get_text() == nbb_unformatted_code) {\n",
       "                             nbb_cells[i].set_text(nbb_formatted_code);\n",
       "                        }\n",
       "                        break;\n",
       "                    }\n",
       "                }\n",
       "            }, 500);\n",
       "            "
      ],
      "text/plain": [
       "<IPython.core.display.Javascript object>"
      ]
     },
     "metadata": {},
     "output_type": "display_data"
    }
   ],
   "source": [
    "sample_spend"
   ]
  },
  {
   "cell_type": "code",
   "execution_count": 14,
   "id": "b8dc7118",
   "metadata": {},
   "outputs": [
    {
     "data": {
      "application/javascript": [
       "\n",
       "            setTimeout(function() {\n",
       "                var nbb_cell_id = 14;\n",
       "                var nbb_unformatted_code = \"sample_spend.to_csv(\\\"../data/sample_spending.csv\\\", index=False)\";\n",
       "                var nbb_formatted_code = \"sample_spend.to_csv(\\\"../data/sample_spending.csv\\\", index=False)\";\n",
       "                var nbb_cells = Jupyter.notebook.get_cells();\n",
       "                for (var i = 0; i < nbb_cells.length; ++i) {\n",
       "                    if (nbb_cells[i].input_prompt_number == nbb_cell_id) {\n",
       "                        if (nbb_cells[i].get_text() == nbb_unformatted_code) {\n",
       "                             nbb_cells[i].set_text(nbb_formatted_code);\n",
       "                        }\n",
       "                        break;\n",
       "                    }\n",
       "                }\n",
       "            }, 500);\n",
       "            "
      ],
      "text/plain": [
       "<IPython.core.display.Javascript object>"
      ]
     },
     "metadata": {},
     "output_type": "display_data"
    }
   ],
   "source": [
    "sample_spend.to_csv(\"../data/sample_spending.csv\", index=False)"
   ]
  },
  {
   "cell_type": "code",
   "execution_count": null,
   "id": "3f5aa286",
   "metadata": {},
   "outputs": [],
   "source": []
  }
 ],
 "metadata": {
  "kernelspec": {
   "display_name": "Python 3 (ipykernel)",
   "language": "python",
   "name": "python3"
  },
  "language_info": {
   "codemirror_mode": {
    "name": "ipython",
    "version": 3
   },
   "file_extension": ".py",
   "mimetype": "text/x-python",
   "name": "python",
   "nbconvert_exporter": "python",
   "pygments_lexer": "ipython3",
   "version": "3.7.4"
  }
 },
 "nbformat": 4,
 "nbformat_minor": 5
}
